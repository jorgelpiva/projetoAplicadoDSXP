{
 "cells": [
  {
   "cell_type": "markdown",
   "id": "8a3c1360",
   "metadata": {},
   "source": [
    "<h1>Carregamento de Dados</h1>"
   ]
  },
  {
   "cell_type": "code",
   "execution_count": 1,
   "id": "b38ed7e2",
   "metadata": {},
   "outputs": [],
   "source": [
    "#imports\n",
    "import pandas as pd\n",
    "import matplotlib.pyplot as plt\n",
    "import seaborn as sns\n",
    "import math"
   ]
  },
  {
   "cell_type": "code",
   "execution_count": 2,
   "id": "5c334bb9",
   "metadata": {},
   "outputs": [],
   "source": [
    "df = pd.read_csv(\"dados/online_shoppers_intention.csv\")"
   ]
  },
  {
   "cell_type": "markdown",
   "id": "8e8e061b",
   "metadata": {},
   "source": [
    "<h3>Visualizar Primeiras Linhas de Dados</h3>"
   ]
  },
  {
   "cell_type": "code",
   "execution_count": 3,
   "id": "6116ce1e",
   "metadata": {},
   "outputs": [
    {
     "data": {
      "text/html": [
       "<div>\n",
       "<style scoped>\n",
       "    .dataframe tbody tr th:only-of-type {\n",
       "        vertical-align: middle;\n",
       "    }\n",
       "\n",
       "    .dataframe tbody tr th {\n",
       "        vertical-align: top;\n",
       "    }\n",
       "\n",
       "    .dataframe thead th {\n",
       "        text-align: right;\n",
       "    }\n",
       "</style>\n",
       "<table border=\"1\" class=\"dataframe\">\n",
       "  <thead>\n",
       "    <tr style=\"text-align: right;\">\n",
       "      <th></th>\n",
       "      <th>Administrative</th>\n",
       "      <th>Administrative_Duration</th>\n",
       "      <th>Informational</th>\n",
       "      <th>Informational_Duration</th>\n",
       "      <th>ProductRelated</th>\n",
       "      <th>ProductRelated_Duration</th>\n",
       "      <th>BounceRates</th>\n",
       "      <th>ExitRates</th>\n",
       "      <th>PageValues</th>\n",
       "      <th>SpecialDay</th>\n",
       "      <th>Month</th>\n",
       "      <th>OperatingSystems</th>\n",
       "      <th>Browser</th>\n",
       "      <th>Region</th>\n",
       "      <th>TrafficType</th>\n",
       "      <th>VisitorType</th>\n",
       "      <th>Weekend</th>\n",
       "      <th>Revenue</th>\n",
       "    </tr>\n",
       "  </thead>\n",
       "  <tbody>\n",
       "    <tr>\n",
       "      <th>0</th>\n",
       "      <td>0</td>\n",
       "      <td>0.0</td>\n",
       "      <td>0</td>\n",
       "      <td>0.0</td>\n",
       "      <td>1</td>\n",
       "      <td>0.000000</td>\n",
       "      <td>0.20</td>\n",
       "      <td>0.20</td>\n",
       "      <td>0.0</td>\n",
       "      <td>0.0</td>\n",
       "      <td>Feb</td>\n",
       "      <td>1</td>\n",
       "      <td>1</td>\n",
       "      <td>1</td>\n",
       "      <td>1</td>\n",
       "      <td>Returning_Visitor</td>\n",
       "      <td>False</td>\n",
       "      <td>False</td>\n",
       "    </tr>\n",
       "    <tr>\n",
       "      <th>1</th>\n",
       "      <td>0</td>\n",
       "      <td>0.0</td>\n",
       "      <td>0</td>\n",
       "      <td>0.0</td>\n",
       "      <td>2</td>\n",
       "      <td>64.000000</td>\n",
       "      <td>0.00</td>\n",
       "      <td>0.10</td>\n",
       "      <td>0.0</td>\n",
       "      <td>0.0</td>\n",
       "      <td>Feb</td>\n",
       "      <td>2</td>\n",
       "      <td>2</td>\n",
       "      <td>1</td>\n",
       "      <td>2</td>\n",
       "      <td>Returning_Visitor</td>\n",
       "      <td>False</td>\n",
       "      <td>False</td>\n",
       "    </tr>\n",
       "    <tr>\n",
       "      <th>2</th>\n",
       "      <td>0</td>\n",
       "      <td>0.0</td>\n",
       "      <td>0</td>\n",
       "      <td>0.0</td>\n",
       "      <td>1</td>\n",
       "      <td>0.000000</td>\n",
       "      <td>0.20</td>\n",
       "      <td>0.20</td>\n",
       "      <td>0.0</td>\n",
       "      <td>0.0</td>\n",
       "      <td>Feb</td>\n",
       "      <td>4</td>\n",
       "      <td>1</td>\n",
       "      <td>9</td>\n",
       "      <td>3</td>\n",
       "      <td>Returning_Visitor</td>\n",
       "      <td>False</td>\n",
       "      <td>False</td>\n",
       "    </tr>\n",
       "    <tr>\n",
       "      <th>3</th>\n",
       "      <td>0</td>\n",
       "      <td>0.0</td>\n",
       "      <td>0</td>\n",
       "      <td>0.0</td>\n",
       "      <td>2</td>\n",
       "      <td>2.666667</td>\n",
       "      <td>0.05</td>\n",
       "      <td>0.14</td>\n",
       "      <td>0.0</td>\n",
       "      <td>0.0</td>\n",
       "      <td>Feb</td>\n",
       "      <td>3</td>\n",
       "      <td>2</td>\n",
       "      <td>2</td>\n",
       "      <td>4</td>\n",
       "      <td>Returning_Visitor</td>\n",
       "      <td>False</td>\n",
       "      <td>False</td>\n",
       "    </tr>\n",
       "    <tr>\n",
       "      <th>4</th>\n",
       "      <td>0</td>\n",
       "      <td>0.0</td>\n",
       "      <td>0</td>\n",
       "      <td>0.0</td>\n",
       "      <td>10</td>\n",
       "      <td>627.500000</td>\n",
       "      <td>0.02</td>\n",
       "      <td>0.05</td>\n",
       "      <td>0.0</td>\n",
       "      <td>0.0</td>\n",
       "      <td>Feb</td>\n",
       "      <td>3</td>\n",
       "      <td>3</td>\n",
       "      <td>1</td>\n",
       "      <td>4</td>\n",
       "      <td>Returning_Visitor</td>\n",
       "      <td>True</td>\n",
       "      <td>False</td>\n",
       "    </tr>\n",
       "  </tbody>\n",
       "</table>\n",
       "</div>"
      ],
      "text/plain": [
       "   Administrative  Administrative_Duration  Informational  \\\n",
       "0               0                      0.0              0   \n",
       "1               0                      0.0              0   \n",
       "2               0                      0.0              0   \n",
       "3               0                      0.0              0   \n",
       "4               0                      0.0              0   \n",
       "\n",
       "   Informational_Duration  ProductRelated  ProductRelated_Duration  \\\n",
       "0                     0.0               1                 0.000000   \n",
       "1                     0.0               2                64.000000   \n",
       "2                     0.0               1                 0.000000   \n",
       "3                     0.0               2                 2.666667   \n",
       "4                     0.0              10               627.500000   \n",
       "\n",
       "   BounceRates  ExitRates  PageValues  SpecialDay Month  OperatingSystems  \\\n",
       "0         0.20       0.20         0.0         0.0   Feb                 1   \n",
       "1         0.00       0.10         0.0         0.0   Feb                 2   \n",
       "2         0.20       0.20         0.0         0.0   Feb                 4   \n",
       "3         0.05       0.14         0.0         0.0   Feb                 3   \n",
       "4         0.02       0.05         0.0         0.0   Feb                 3   \n",
       "\n",
       "   Browser  Region  TrafficType        VisitorType  Weekend  Revenue  \n",
       "0        1       1            1  Returning_Visitor    False    False  \n",
       "1        2       1            2  Returning_Visitor    False    False  \n",
       "2        1       9            3  Returning_Visitor    False    False  \n",
       "3        2       2            4  Returning_Visitor    False    False  \n",
       "4        3       1            4  Returning_Visitor     True    False  "
      ]
     },
     "execution_count": 3,
     "metadata": {},
     "output_type": "execute_result"
    }
   ],
   "source": [
    "df.head()"
   ]
  },
  {
   "cell_type": "markdown",
   "id": "d844b51a",
   "metadata": {},
   "source": [
    "<h3>Visualizar os tipos do dados</h3>"
   ]
  },
  {
   "cell_type": "code",
   "execution_count": 4,
   "id": "ba7fb0eb",
   "metadata": {},
   "outputs": [
    {
     "name": "stdout",
     "output_type": "stream",
     "text": [
      "<class 'pandas.core.frame.DataFrame'>\n",
      "RangeIndex: 12330 entries, 0 to 12329\n",
      "Data columns (total 18 columns):\n",
      " #   Column                   Non-Null Count  Dtype  \n",
      "---  ------                   --------------  -----  \n",
      " 0   Administrative           12330 non-null  int64  \n",
      " 1   Administrative_Duration  12330 non-null  float64\n",
      " 2   Informational            12330 non-null  int64  \n",
      " 3   Informational_Duration   12330 non-null  float64\n",
      " 4   ProductRelated           12330 non-null  int64  \n",
      " 5   ProductRelated_Duration  12330 non-null  float64\n",
      " 6   BounceRates              12330 non-null  float64\n",
      " 7   ExitRates                12330 non-null  float64\n",
      " 8   PageValues               12330 non-null  float64\n",
      " 9   SpecialDay               12330 non-null  float64\n",
      " 10  Month                    12330 non-null  object \n",
      " 11  OperatingSystems         12330 non-null  int64  \n",
      " 12  Browser                  12330 non-null  int64  \n",
      " 13  Region                   12330 non-null  int64  \n",
      " 14  TrafficType              12330 non-null  int64  \n",
      " 15  VisitorType              12330 non-null  object \n",
      " 16  Weekend                  12330 non-null  bool   \n",
      " 17  Revenue                  12330 non-null  bool   \n",
      "dtypes: bool(2), float64(7), int64(7), object(2)\n",
      "memory usage: 1.5+ MB\n"
     ]
    }
   ],
   "source": [
    "df.info()"
   ]
  },
  {
   "cell_type": "markdown",
   "id": "9bcda830",
   "metadata": {},
   "source": [
    "<h3>Visualizar a presença de Valores Nulos</h3>"
   ]
  },
  {
   "cell_type": "code",
   "execution_count": 5,
   "id": "3abac3a6",
   "metadata": {},
   "outputs": [
    {
     "data": {
      "text/plain": [
       "Administrative             0\n",
       "Administrative_Duration    0\n",
       "Informational              0\n",
       "Informational_Duration     0\n",
       "ProductRelated             0\n",
       "ProductRelated_Duration    0\n",
       "BounceRates                0\n",
       "ExitRates                  0\n",
       "PageValues                 0\n",
       "SpecialDay                 0\n",
       "Month                      0\n",
       "OperatingSystems           0\n",
       "Browser                    0\n",
       "Region                     0\n",
       "TrafficType                0\n",
       "VisitorType                0\n",
       "Weekend                    0\n",
       "Revenue                    0\n",
       "dtype: int64"
      ]
     },
     "execution_count": 5,
     "metadata": {},
     "output_type": "execute_result"
    }
   ],
   "source": [
    "df.isnull().sum()"
   ]
  },
  {
   "cell_type": "markdown",
   "id": "936e7970",
   "metadata": {},
   "source": [
    "<h3>Não foram encontrados Valores nulos, um tratamento a menos</h3>"
   ]
  },
  {
   "cell_type": "markdown",
   "id": "c6899c80",
   "metadata": {},
   "source": [
    "<h3>Criar um Dicionário de dados resumido</h3>"
   ]
  },
  {
   "cell_type": "code",
   "execution_count": 6,
   "id": "78444a61",
   "metadata": {},
   "outputs": [
    {
     "data": {
      "text/html": [
       "<div>\n",
       "<style scoped>\n",
       "    .dataframe tbody tr th:only-of-type {\n",
       "        vertical-align: middle;\n",
       "    }\n",
       "\n",
       "    .dataframe tbody tr th {\n",
       "        vertical-align: top;\n",
       "    }\n",
       "\n",
       "    .dataframe thead th {\n",
       "        text-align: right;\n",
       "    }\n",
       "</style>\n",
       "<table border=\"1\" class=\"dataframe\">\n",
       "  <thead>\n",
       "    <tr style=\"text-align: right;\">\n",
       "      <th></th>\n",
       "      <th>Coluna</th>\n",
       "      <th>Tipo de dado</th>\n",
       "      <th>Valores únicos</th>\n",
       "      <th>Exemplo</th>\n",
       "    </tr>\n",
       "  </thead>\n",
       "  <tbody>\n",
       "    <tr>\n",
       "      <th>0</th>\n",
       "      <td>Administrative</td>\n",
       "      <td>int64</td>\n",
       "      <td>27</td>\n",
       "      <td>0</td>\n",
       "    </tr>\n",
       "    <tr>\n",
       "      <th>1</th>\n",
       "      <td>Administrative_Duration</td>\n",
       "      <td>float64</td>\n",
       "      <td>3335</td>\n",
       "      <td>0.0</td>\n",
       "    </tr>\n",
       "    <tr>\n",
       "      <th>2</th>\n",
       "      <td>Informational</td>\n",
       "      <td>int64</td>\n",
       "      <td>17</td>\n",
       "      <td>0</td>\n",
       "    </tr>\n",
       "    <tr>\n",
       "      <th>3</th>\n",
       "      <td>Informational_Duration</td>\n",
       "      <td>float64</td>\n",
       "      <td>1258</td>\n",
       "      <td>0.0</td>\n",
       "    </tr>\n",
       "    <tr>\n",
       "      <th>4</th>\n",
       "      <td>ProductRelated</td>\n",
       "      <td>int64</td>\n",
       "      <td>311</td>\n",
       "      <td>1</td>\n",
       "    </tr>\n",
       "    <tr>\n",
       "      <th>5</th>\n",
       "      <td>ProductRelated_Duration</td>\n",
       "      <td>float64</td>\n",
       "      <td>9551</td>\n",
       "      <td>0.0</td>\n",
       "    </tr>\n",
       "    <tr>\n",
       "      <th>6</th>\n",
       "      <td>BounceRates</td>\n",
       "      <td>float64</td>\n",
       "      <td>1872</td>\n",
       "      <td>0.2</td>\n",
       "    </tr>\n",
       "    <tr>\n",
       "      <th>7</th>\n",
       "      <td>ExitRates</td>\n",
       "      <td>float64</td>\n",
       "      <td>4777</td>\n",
       "      <td>0.2</td>\n",
       "    </tr>\n",
       "    <tr>\n",
       "      <th>8</th>\n",
       "      <td>PageValues</td>\n",
       "      <td>float64</td>\n",
       "      <td>2704</td>\n",
       "      <td>0.0</td>\n",
       "    </tr>\n",
       "    <tr>\n",
       "      <th>9</th>\n",
       "      <td>SpecialDay</td>\n",
       "      <td>float64</td>\n",
       "      <td>6</td>\n",
       "      <td>0.0</td>\n",
       "    </tr>\n",
       "    <tr>\n",
       "      <th>10</th>\n",
       "      <td>Month</td>\n",
       "      <td>object</td>\n",
       "      <td>10</td>\n",
       "      <td>Feb</td>\n",
       "    </tr>\n",
       "    <tr>\n",
       "      <th>11</th>\n",
       "      <td>OperatingSystems</td>\n",
       "      <td>int64</td>\n",
       "      <td>8</td>\n",
       "      <td>1</td>\n",
       "    </tr>\n",
       "    <tr>\n",
       "      <th>12</th>\n",
       "      <td>Browser</td>\n",
       "      <td>int64</td>\n",
       "      <td>13</td>\n",
       "      <td>1</td>\n",
       "    </tr>\n",
       "    <tr>\n",
       "      <th>13</th>\n",
       "      <td>Region</td>\n",
       "      <td>int64</td>\n",
       "      <td>9</td>\n",
       "      <td>1</td>\n",
       "    </tr>\n",
       "    <tr>\n",
       "      <th>14</th>\n",
       "      <td>TrafficType</td>\n",
       "      <td>int64</td>\n",
       "      <td>20</td>\n",
       "      <td>1</td>\n",
       "    </tr>\n",
       "    <tr>\n",
       "      <th>15</th>\n",
       "      <td>VisitorType</td>\n",
       "      <td>object</td>\n",
       "      <td>3</td>\n",
       "      <td>Returning_Visitor</td>\n",
       "    </tr>\n",
       "    <tr>\n",
       "      <th>16</th>\n",
       "      <td>Weekend</td>\n",
       "      <td>bool</td>\n",
       "      <td>2</td>\n",
       "      <td>False</td>\n",
       "    </tr>\n",
       "    <tr>\n",
       "      <th>17</th>\n",
       "      <td>Revenue</td>\n",
       "      <td>bool</td>\n",
       "      <td>2</td>\n",
       "      <td>False</td>\n",
       "    </tr>\n",
       "  </tbody>\n",
       "</table>\n",
       "</div>"
      ],
      "text/plain": [
       "                     Coluna Tipo de dado  Valores únicos            Exemplo\n",
       "0            Administrative        int64              27                  0\n",
       "1   Administrative_Duration      float64            3335                0.0\n",
       "2             Informational        int64              17                  0\n",
       "3    Informational_Duration      float64            1258                0.0\n",
       "4            ProductRelated        int64             311                  1\n",
       "5   ProductRelated_Duration      float64            9551                0.0\n",
       "6               BounceRates      float64            1872                0.2\n",
       "7                 ExitRates      float64            4777                0.2\n",
       "8                PageValues      float64            2704                0.0\n",
       "9                SpecialDay      float64               6                0.0\n",
       "10                    Month       object              10                Feb\n",
       "11         OperatingSystems        int64               8                  1\n",
       "12                  Browser        int64              13                  1\n",
       "13                   Region        int64               9                  1\n",
       "14              TrafficType        int64              20                  1\n",
       "15              VisitorType       object               3  Returning_Visitor\n",
       "16                  Weekend         bool               2              False\n",
       "17                  Revenue         bool               2              False"
      ]
     },
     "execution_count": 6,
     "metadata": {},
     "output_type": "execute_result"
    }
   ],
   "source": [
    "data_dictionary = pd.DataFrame({\n",
    "    \"Coluna\": df.columns,\n",
    "    \"Tipo de dado\": df.dtypes.values,\n",
    "    \"Valores únicos\": df.nunique().values,\n",
    "    \"Exemplo\": [df[col].dropna().unique()[0] for col in df.columns]\n",
    "})\n",
    "\n",
    "data_dictionary\n"
   ]
  },
  {
   "cell_type": "markdown",
   "id": "56a9f171",
   "metadata": {},
   "source": [
    "<h3>Visualização rápida da distribuição da variável target</h3>"
   ]
  },
  {
   "cell_type": "code",
   "execution_count": 7,
   "id": "108abd67",
   "metadata": {},
   "outputs": [
    {
     "data": {
      "image/png": "[encoded data removed]",
      "text/plain": [
       "<Figure size 640x480 with 1 Axes>"
      ]
     },
     "metadata": {},
     "output_type": "display_data"
    }
   ],
   "source": [
    "sns.countplot(data=df, x='Revenue')\n",
    "plt.title(\"Distribuição da variável alvo (Revenue)\")\n",
    "plt.show()\n"
   ]
  },
  {
   "cell_type": "markdown",
   "id": "c55a06a9",
   "metadata": {},
   "source": [
    "<h3>Aparentemente não temos valores nulos, vamos utilizar outra técnica para se certificar</h3>"
   ]
  },
  {
   "cell_type": "code",
   "execution_count": 8,
   "id": "9a821592",
   "metadata": {},
   "outputs": [
    {
     "name": "stdout",
     "output_type": "stream",
     "text": [
      "✅ Não há valores ausentes no dataset.\n"
     ]
    }
   ],
   "source": [
    "# Verificar percentual de valores ausentes por coluna\n",
    "missing_percent = df.isnull().mean() * 100\n",
    "missing_percent[missing_percent > 0].sort_values(ascending=False)\n",
    "\n",
    "if missing_percent[missing_percent > 0].empty:\n",
    "    print(\"✅ Não há valores ausentes no dataset.\")\n",
    "else:\n",
    "    print(\"⚠️ Colunas com valores ausentes:\")\n",
    "    print(missing_percent[missing_percent > 0].sort_values(ascending=False))\n",
    "\n"
   ]
  },
  {
   "cell_type": "markdown",
   "id": "2c5d60dc",
   "metadata": {},
   "source": [
    "<h4>Verificar valores únicos</h4>"
   ]
  },
  {
   "cell_type": "code",
   "execution_count": 9,
   "id": "25747a8d",
   "metadata": {},
   "outputs": [
    {
     "data": {
      "text/plain": [
       "Revenue                       2\n",
       "Weekend                       2\n",
       "VisitorType                   3\n",
       "SpecialDay                    6\n",
       "OperatingSystems              8\n",
       "Region                        9\n",
       "Month                        10\n",
       "Browser                      13\n",
       "Informational                17\n",
       "TrafficType                  20\n",
       "Administrative               27\n",
       "ProductRelated              311\n",
       "Informational_Duration     1258\n",
       "BounceRates                1872\n",
       "PageValues                 2704\n",
       "Administrative_Duration    3335\n",
       "ExitRates                  4777\n",
       "ProductRelated_Duration    9551\n",
       "dtype: int64"
      ]
     },
     "execution_count": 9,
     "metadata": {},
     "output_type": "execute_result"
    }
   ],
   "source": [
    "df.nunique().sort_values()\n"
   ]
  },
  {
   "cell_type": "markdown",
   "id": "ddd6b8e0",
   "metadata": {},
   "source": [
    "<h4>Colunas com poucos valores únicos\n",
    "Revenue, Weekend, VisitorType, SpecialDay, OperatingSystems, Region, Month, Browser, Informational, TrafficType<br> → São categóricas ou quase categóricas.<br>\n",
    "\n",
    "Podem ser codificadas como variáveis dummy ou com ordinal encoding posteriormente.<br>\n",
    "</h4>"
   ]
  },
  {
   "cell_type": "markdown",
   "id": "30bd7089",
   "metadata": {},
   "source": [
    "<h4>Verificar Distribuições das variáveis</h4>"
   ]
  },
  {
   "cell_type": "code",
   "execution_count": 10,
   "id": "5845c4d7",
   "metadata": {},
   "outputs": [
    {
     "data": {
      "image/png": "[encoded data removed]",
      "text/plain": [
       "<Figure size 2000x1600 with 14 Axes>"
      ]
     },
     "metadata": {},
     "output_type": "display_data"
    }
   ],
   "source": [
    "# Lista de colunas numéricas\n",
    "numericas = df.select_dtypes(include=['int64', 'float64']).columns\n",
    "qtd = len(numericas)\n",
    "\n",
    "# Definir número de linhas e colunas dinamicamente\n",
    "cols = 4\n",
    "rows = math.ceil(qtd / cols)\n",
    "\n",
    "plt.figure(figsize=(5 * cols, 4 * rows))\n",
    "\n",
    "for i, col in enumerate(numericas):\n",
    "    plt.subplot(rows, cols, i+1)\n",
    "    sns.boxplot(data=df, x=col)\n",
    "    plt.title(col)\n",
    "\n",
    "plt.tight_layout()\n",
    "plt.show()\n"
   ]
  },
  {
   "cell_type": "markdown",
   "id": "02f28bf5",
   "metadata": {},
   "source": [
    "<h4>Distribuições de medidas de tendência central e quartis das variáveis numéricas</h4>"
   ]
  },
  {
   "cell_type": "code",
   "execution_count": 11,
   "id": "91d5712e",
   "metadata": {},
   "outputs": [
    {
     "data": {
      "text/html": [
       "<div>\n",
       "<style scoped>\n",
       "    .dataframe tbody tr th:only-of-type {\n",
       "        vertical-align: middle;\n",
       "    }\n",
       "\n",
       "    .dataframe tbody tr th {\n",
       "        vertical-align: top;\n",
       "    }\n",
       "\n",
       "    .dataframe thead th {\n",
       "        text-align: right;\n",
       "    }\n",
       "</style>\n",
       "<table border=\"1\" class=\"dataframe\">\n",
       "  <thead>\n",
       "    <tr style=\"text-align: right;\">\n",
       "      <th></th>\n",
       "      <th>count</th>\n",
       "      <th>mean</th>\n",
       "      <th>std</th>\n",
       "      <th>min</th>\n",
       "      <th>25%</th>\n",
       "      <th>50%</th>\n",
       "      <th>75%</th>\n",
       "      <th>max</th>\n",
       "    </tr>\n",
       "  </thead>\n",
       "  <tbody>\n",
       "    <tr>\n",
       "      <th>Administrative</th>\n",
       "      <td>12330.0</td>\n",
       "      <td>2.315166</td>\n",
       "      <td>3.321784</td>\n",
       "      <td>0.0</td>\n",
       "      <td>0.000000</td>\n",
       "      <td>1.000000</td>\n",
       "      <td>4.000000</td>\n",
       "      <td>27.000000</td>\n",
       "    </tr>\n",
       "    <tr>\n",
       "      <th>Administrative_Duration</th>\n",
       "      <td>12330.0</td>\n",
       "      <td>80.818611</td>\n",
       "      <td>176.779107</td>\n",
       "      <td>0.0</td>\n",
       "      <td>0.000000</td>\n",
       "      <td>7.500000</td>\n",
       "      <td>93.256250</td>\n",
       "      <td>3398.750000</td>\n",
       "    </tr>\n",
       "    <tr>\n",
       "      <th>Informational</th>\n",
       "      <td>12330.0</td>\n",
       "      <td>0.503569</td>\n",
       "      <td>1.270156</td>\n",
       "      <td>0.0</td>\n",
       "      <td>0.000000</td>\n",
       "      <td>0.000000</td>\n",
       "      <td>0.000000</td>\n",
       "      <td>24.000000</td>\n",
       "    </tr>\n",
       "    <tr>\n",
       "      <th>Informational_Duration</th>\n",
       "      <td>12330.0</td>\n",
       "      <td>34.472398</td>\n",
       "      <td>140.749294</td>\n",
       "      <td>0.0</td>\n",
       "      <td>0.000000</td>\n",
       "      <td>0.000000</td>\n",
       "      <td>0.000000</td>\n",
       "      <td>2549.375000</td>\n",
       "    </tr>\n",
       "    <tr>\n",
       "      <th>ProductRelated</th>\n",
       "      <td>12330.0</td>\n",
       "      <td>31.731468</td>\n",
       "      <td>44.475503</td>\n",
       "      <td>0.0</td>\n",
       "      <td>7.000000</td>\n",
       "      <td>18.000000</td>\n",
       "      <td>38.000000</td>\n",
       "      <td>705.000000</td>\n",
       "    </tr>\n",
       "    <tr>\n",
       "      <th>ProductRelated_Duration</th>\n",
       "      <td>12330.0</td>\n",
       "      <td>1194.746220</td>\n",
       "      <td>1913.669288</td>\n",
       "      <td>0.0</td>\n",
       "      <td>184.137500</td>\n",
       "      <td>598.936905</td>\n",
       "      <td>1464.157214</td>\n",
       "      <td>63973.522230</td>\n",
       "    </tr>\n",
       "    <tr>\n",
       "      <th>BounceRates</th>\n",
       "      <td>12330.0</td>\n",
       "      <td>0.022191</td>\n",
       "      <td>0.048488</td>\n",
       "      <td>0.0</td>\n",
       "      <td>0.000000</td>\n",
       "      <td>0.003112</td>\n",
       "      <td>0.016813</td>\n",
       "      <td>0.200000</td>\n",
       "    </tr>\n",
       "    <tr>\n",
       "      <th>ExitRates</th>\n",
       "      <td>12330.0</td>\n",
       "      <td>0.043073</td>\n",
       "      <td>0.048597</td>\n",
       "      <td>0.0</td>\n",
       "      <td>0.014286</td>\n",
       "      <td>0.025156</td>\n",
       "      <td>0.050000</td>\n",
       "      <td>0.200000</td>\n",
       "    </tr>\n",
       "    <tr>\n",
       "      <th>PageValues</th>\n",
       "      <td>12330.0</td>\n",
       "      <td>5.889258</td>\n",
       "      <td>18.568437</td>\n",
       "      <td>0.0</td>\n",
       "      <td>0.000000</td>\n",
       "      <td>0.000000</td>\n",
       "      <td>0.000000</td>\n",
       "      <td>361.763742</td>\n",
       "    </tr>\n",
       "    <tr>\n",
       "      <th>SpecialDay</th>\n",
       "      <td>12330.0</td>\n",
       "      <td>0.061427</td>\n",
       "      <td>0.198917</td>\n",
       "      <td>0.0</td>\n",
       "      <td>0.000000</td>\n",
       "      <td>0.000000</td>\n",
       "      <td>0.000000</td>\n",
       "      <td>1.000000</td>\n",
       "    </tr>\n",
       "    <tr>\n",
       "      <th>OperatingSystems</th>\n",
       "      <td>12330.0</td>\n",
       "      <td>2.124006</td>\n",
       "      <td>0.911325</td>\n",
       "      <td>1.0</td>\n",
       "      <td>2.000000</td>\n",
       "      <td>2.000000</td>\n",
       "      <td>3.000000</td>\n",
       "      <td>8.000000</td>\n",
       "    </tr>\n",
       "    <tr>\n",
       "      <th>Browser</th>\n",
       "      <td>12330.0</td>\n",
       "      <td>2.357097</td>\n",
       "      <td>1.717277</td>\n",
       "      <td>1.0</td>\n",
       "      <td>2.000000</td>\n",
       "      <td>2.000000</td>\n",
       "      <td>2.000000</td>\n",
       "      <td>13.000000</td>\n",
       "    </tr>\n",
       "    <tr>\n",
       "      <th>Region</th>\n",
       "      <td>12330.0</td>\n",
       "      <td>3.147364</td>\n",
       "      <td>2.401591</td>\n",
       "      <td>1.0</td>\n",
       "      <td>1.000000</td>\n",
       "      <td>3.000000</td>\n",
       "      <td>4.000000</td>\n",
       "      <td>9.000000</td>\n",
       "    </tr>\n",
       "    <tr>\n",
       "      <th>TrafficType</th>\n",
       "      <td>12330.0</td>\n",
       "      <td>4.069586</td>\n",
       "      <td>4.025169</td>\n",
       "      <td>1.0</td>\n",
       "      <td>2.000000</td>\n",
       "      <td>2.000000</td>\n",
       "      <td>4.000000</td>\n",
       "      <td>20.000000</td>\n",
       "    </tr>\n",
       "  </tbody>\n",
       "</table>\n",
       "</div>"
      ],
      "text/plain": [
       "                           count         mean          std  min         25%  \\\n",
       "Administrative           12330.0     2.315166     3.321784  0.0    0.000000   \n",
       "Administrative_Duration  12330.0    80.818611   176.779107  0.0    0.000000   \n",
       "Informational            12330.0     0.503569     1.270156  0.0    0.000000   \n",
       "Informational_Duration   12330.0    34.472398   140.749294  0.0    0.000000   \n",
       "ProductRelated           12330.0    31.731468    44.475503  0.0    7.000000   \n",
       "ProductRelated_Duration  12330.0  1194.746220  1913.669288  0.0  184.137500   \n",
       "BounceRates              12330.0     0.022191     0.048488  0.0    0.000000   \n",
       "ExitRates                12330.0     0.043073     0.048597  0.0    0.014286   \n",
       "PageValues               12330.0     5.889258    18.568437  0.0    0.000000   \n",
       "SpecialDay               12330.0     0.061427     0.198917  0.0    0.000000   \n",
       "OperatingSystems         12330.0     2.124006     0.911325  1.0    2.000000   \n",
       "Browser                  12330.0     2.357097     1.717277  1.0    2.000000   \n",
       "Region                   12330.0     3.147364     2.401591  1.0    1.000000   \n",
       "TrafficType              12330.0     4.069586     4.025169  1.0    2.000000   \n",
       "\n",
       "                                50%          75%           max  \n",
       "Administrative             1.000000     4.000000     27.000000  \n",
       "Administrative_Duration    7.500000    93.256250   3398.750000  \n",
       "Informational              0.000000     0.000000     24.000000  \n",
       "Informational_Duration     0.000000     0.000000   2549.375000  \n",
       "ProductRelated            18.000000    38.000000    705.000000  \n",
       "ProductRelated_Duration  598.936905  1464.157214  63973.522230  \n",
       "BounceRates                0.003112     0.016813      0.200000  \n",
       "ExitRates                  0.025156     0.050000      0.200000  \n",
       "PageValues                 0.000000     0.000000    361.763742  \n",
       "SpecialDay                 0.000000     0.000000      1.000000  \n",
       "OperatingSystems           2.000000     3.000000      8.000000  \n",
       "Browser                    2.000000     2.000000     13.000000  \n",
       "Region                     3.000000     4.000000      9.000000  \n",
       "TrafficType                2.000000     4.000000     20.000000  "
      ]
     },
     "execution_count": 11,
     "metadata": {},
     "output_type": "execute_result"
    }
   ],
   "source": [
    "df.describe().T"
   ]
  },
  {
   "cell_type": "markdown",
   "id": "cfd5e06d",
   "metadata": {},
   "source": [
    "<h4>\n",
    "⚠️ Outliers não devem ser removidos ainda sem entender se são erros ou comportamento válido.\n",
    "\n",
    "⚙️ Para variáveis com valores assimétricos como ProductRelated_Duration e PageValues considerar:\n",
    "\n",
    "Log transformação\n",
    "\n",
    "Normalização (MinMaxScaler)\n",
    "\n",
    "Padronização (StandardScaler)\n",
    "\n",
    "📊 Pode-se criar uma flag de outlier com base no IQR para mais controle.\n",
    "\n",
    "As colunas como BounceRates, ExitRates, ou Administrative_Duration têm valores extremos também, mas a variância não é tão significativa ao ponto de valer o custo de complexidade (por enquanto).\n",
    "</h4>"
   ]
  },
  {
   "cell_type": "code",
   "execution_count": 12,
   "id": "13d4a623",
   "metadata": {},
   "outputs": [
    {
     "name": "stdout",
     "output_type": "stream",
     "text": [
      "PageValues_Outlier: 2730 outliers (22.14%)\n",
      "ProductRelated_Duration_Outlier: 961 outliers (7.79%)\n"
     ]
    }
   ],
   "source": [
    "def cria_flag_outlier(df, coluna):\n",
    "    Q1 = df[coluna].quantile(0.25)\n",
    "    Q3 = df[coluna].quantile(0.75)\n",
    "    IQR = Q3 - Q1\n",
    "    limite_inferior = Q1 - 1.5 * IQR\n",
    "    limite_superior = Q3 + 1.5 * IQR\n",
    "    flag_name = f\"{coluna}_Outlier\"\n",
    "    df[flag_name] = ((df[coluna] < limite_inferior) | (df[coluna] > limite_superior)).astype(int)\n",
    "    \n",
    "    # Exibir contagem e percentual\n",
    "    outliers = df[flag_name].sum()\n",
    "    total = len(df)\n",
    "    percentual = (outliers / total) * 100\n",
    "    print(f\"{flag_name}: {outliers} outliers ({percentual:.2f}%)\")\n",
    "    \n",
    "    return df\n",
    "\n",
    "# Aplicar para as colunas escolhidas\n",
    "df = cria_flag_outlier(df, 'PageValues')\n",
    "df = cria_flag_outlier(df, 'ProductRelated_Duration')\n"
   ]
  },
  {
   "cell_type": "markdown",
   "id": "3f3b81a2",
   "metadata": {},
   "source": [
    "<h4>\n",
    "📌 PageValues_Outlier (~22%)\n",
    "Quase 1 em cada 5 visitas tem um valor de página extremamente alto.\n",
    "\n",
    "Isso pode indicar compradores reais, carrinhos cheios ou pessoas que interagiram com promoções específicas.\n",
    "\n",
    "Esse comportamento pode ser fortemente associado ao target Revenue = True.\n",
    "\n",
    "📌 ProductRelated_Duration_Outlier (~8%)\n",
    "Visitas com navegação muito longa em páginas de produtos.\n",
    "\n",
    "Pode indicar alto engajamento, mas também comportamento indeciso, comparações extensas, etc\n",
    "</h4>"
   ]
  },
  {
   "cell_type": "code",
   "execution_count": 13,
   "id": "e8217050",
   "metadata": {},
   "outputs": [
    {
     "data": {
      "text/html": [
       "<div>\n",
       "<style scoped>\n",
       "    .dataframe tbody tr th:only-of-type {\n",
       "        vertical-align: middle;\n",
       "    }\n",
       "\n",
       "    .dataframe tbody tr th {\n",
       "        vertical-align: top;\n",
       "    }\n",
       "\n",
       "    .dataframe thead th {\n",
       "        text-align: right;\n",
       "    }\n",
       "</style>\n",
       "<table border=\"1\" class=\"dataframe\">\n",
       "  <thead>\n",
       "    <tr style=\"text-align: right;\">\n",
       "      <th>Revenue</th>\n",
       "      <th>False</th>\n",
       "      <th>True</th>\n",
       "    </tr>\n",
       "    <tr>\n",
       "      <th>PageValues_Outlier</th>\n",
       "      <th></th>\n",
       "      <th></th>\n",
       "    </tr>\n",
       "  </thead>\n",
       "  <tbody>\n",
       "    <tr>\n",
       "      <th>0</th>\n",
       "      <td>96.145833</td>\n",
       "      <td>3.854167</td>\n",
       "    </tr>\n",
       "    <tr>\n",
       "      <th>1</th>\n",
       "      <td>43.663004</td>\n",
       "      <td>56.336996</td>\n",
       "    </tr>\n",
       "  </tbody>\n",
       "</table>\n",
       "</div>"
      ],
      "text/plain": [
       "Revenue                 False      True \n",
       "PageValues_Outlier                      \n",
       "0                   96.145833   3.854167\n",
       "1                   43.663004  56.336996"
      ]
     },
     "execution_count": 13,
     "metadata": {},
     "output_type": "execute_result"
    }
   ],
   "source": [
    "# Cruzar com Revenue\n",
    "pd.crosstab(df['PageValues_Outlier'], df['Revenue'], normalize='index') * 100\n"
   ]
  },
  {
   "cell_type": "code",
   "execution_count": 14,
   "id": "9cdff157",
   "metadata": {},
   "outputs": [
    {
     "data": {
      "text/html": [
       "<div>\n",
       "<style scoped>\n",
       "    .dataframe tbody tr th:only-of-type {\n",
       "        vertical-align: middle;\n",
       "    }\n",
       "\n",
       "    .dataframe tbody tr th {\n",
       "        vertical-align: top;\n",
       "    }\n",
       "\n",
       "    .dataframe thead th {\n",
       "        text-align: right;\n",
       "    }\n",
       "</style>\n",
       "<table border=\"1\" class=\"dataframe\">\n",
       "  <thead>\n",
       "    <tr style=\"text-align: right;\">\n",
       "      <th>Revenue</th>\n",
       "      <th>False</th>\n",
       "      <th>True</th>\n",
       "    </tr>\n",
       "    <tr>\n",
       "      <th>ProductRelated_Duration_Outlier</th>\n",
       "      <th></th>\n",
       "      <th></th>\n",
       "    </tr>\n",
       "  </thead>\n",
       "  <tbody>\n",
       "    <tr>\n",
       "      <th>0</th>\n",
       "      <td>85.759522</td>\n",
       "      <td>14.240478</td>\n",
       "    </tr>\n",
       "    <tr>\n",
       "      <th>1</th>\n",
       "      <td>69.927159</td>\n",
       "      <td>30.072841</td>\n",
       "    </tr>\n",
       "  </tbody>\n",
       "</table>\n",
       "</div>"
      ],
      "text/plain": [
       "Revenue                              False      True \n",
       "ProductRelated_Duration_Outlier                      \n",
       "0                                85.759522  14.240478\n",
       "1                                69.927159  30.072841"
      ]
     },
     "execution_count": 14,
     "metadata": {},
     "output_type": "execute_result"
    }
   ],
   "source": [
    "pd.crosstab(df['ProductRelated_Duration_Outlier'], df['Revenue'], normalize='index') * 100\n"
   ]
  },
  {
   "cell_type": "markdown",
   "id": "50d2c48e",
   "metadata": {},
   "source": []
  },
  {
   "cell_type": "markdown",
   "id": "edab9845",
   "metadata": {},
   "source": [
    "<h4>\n",
    "📌 Insight:\n",
    "\n",
    "Sessões com tempo extremamente alto em páginas de produto têm mais que o dobro da taxa de conversão em comparação com sessões normais (30% vs 14%).<br>\n",
    "\n",
    "Essa variável pode ser útil no modelo tanto como feature contínua quanto como flag binária de comportamento intenso.\n",
    "</h4>"
   ]
  },
  {
   "cell_type": "markdown",
   "id": "c07a4ea1",
   "metadata": {},
   "source": [
    "<h4>Análise univariada da variável Revenue</h4>"
   ]
  },
  {
   "cell_type": "code",
   "execution_count": 15,
   "id": "06ed35c1",
   "metadata": {},
   "outputs": [
    {
     "name": "stdout",
     "output_type": "stream",
     "text": [
      "Revenue\n",
      "False    10422\n",
      "True      1908\n",
      "Name: count, dtype: int64\n",
      "Revenue\n",
      "False    84.525547\n",
      "True     15.474453\n",
      "Name: proportion, dtype: float64\n"
     ]
    },
    {
     "data": {
      "image/png": "[encoded data removed]",
      "text/plain": [
       "<Figure size 600x400 with 1 Axes>"
      ]
     },
     "metadata": {},
     "output_type": "display_data"
    }
   ],
   "source": [
    "# Contagem absoluta e percentual\n",
    "print(df['Revenue'].value_counts())\n",
    "print(df['Revenue'].value_counts(normalize=True) * 100)\n",
    "\n",
    "plt.figure(figsize=(6, 4))\n",
    "sns.countplot(x='Revenue', data=df)\n",
    "plt.title('Distribuição da variável alvo: Revenue')\n",
    "plt.xlabel('Realizou Compra (Revenue)')\n",
    "plt.ylabel('Quantidade')\n",
    "plt.show()\n"
   ]
  },
  {
   "cell_type": "markdown",
   "id": "56076b28",
   "metadata": {},
   "source": [
    "<h4>Com base nos dados reais:\n",
    "\n",
    "Revenue = True: 15,27%\n",
    "\n",
    "Revenue = False: 84,73%\n",
    "\n",
    "📌 Conclusão:\n",
    "Temos um claro desbalanceamento, típico de cenários reais de e-commerce, onde poucas sessões resultam em compra.\n",
    "</h4>"
   ]
  },
  {
   "cell_type": "markdown",
   "id": "e437a182",
   "metadata": {},
   "source": [
    "<h4>Cruzar Revenue com variáveis categóricas\n",
    "Vamos investigar como variáveis como Weekend, VisitorType e Month se comportam em relação à conversão.</h4>"
   ]
  },
  {
   "cell_type": "code",
   "execution_count": 16,
   "id": "319af21b",
   "metadata": {},
   "outputs": [
    {
     "name": "stdout",
     "output_type": "stream",
     "text": [
      "\n",
      "--- Weekend ---\n"
     ]
    },
    {
     "data": {
      "text/html": [
       "<div>\n",
       "<style scoped>\n",
       "    .dataframe tbody tr th:only-of-type {\n",
       "        vertical-align: middle;\n",
       "    }\n",
       "\n",
       "    .dataframe tbody tr th {\n",
       "        vertical-align: top;\n",
       "    }\n",
       "\n",
       "    .dataframe thead th {\n",
       "        text-align: right;\n",
       "    }\n",
       "</style>\n",
       "<table border=\"1\" class=\"dataframe\">\n",
       "  <thead>\n",
       "    <tr style=\"text-align: right;\">\n",
       "      <th>Revenue</th>\n",
       "      <th>False</th>\n",
       "      <th>True</th>\n",
       "    </tr>\n",
       "    <tr>\n",
       "      <th>Weekend</th>\n",
       "      <th></th>\n",
       "      <th></th>\n",
       "    </tr>\n",
       "  </thead>\n",
       "  <tbody>\n",
       "    <tr>\n",
       "      <th>False</th>\n",
       "      <td>85.11</td>\n",
       "      <td>14.89</td>\n",
       "    </tr>\n",
       "    <tr>\n",
       "      <th>True</th>\n",
       "      <td>82.60</td>\n",
       "      <td>17.40</td>\n",
       "    </tr>\n",
       "  </tbody>\n",
       "</table>\n",
       "</div>"
      ],
      "text/plain": [
       "Revenue  False  True \n",
       "Weekend              \n",
       "False    85.11  14.89\n",
       "True     82.60  17.40"
      ]
     },
     "metadata": {},
     "output_type": "display_data"
    },
    {
     "name": "stdout",
     "output_type": "stream",
     "text": [
      "\n",
      "--- VisitorType ---\n"
     ]
    },
    {
     "data": {
      "text/html": [
       "<div>\n",
       "<style scoped>\n",
       "    .dataframe tbody tr th:only-of-type {\n",
       "        vertical-align: middle;\n",
       "    }\n",
       "\n",
       "    .dataframe tbody tr th {\n",
       "        vertical-align: top;\n",
       "    }\n",
       "\n",
       "    .dataframe thead th {\n",
       "        text-align: right;\n",
       "    }\n",
       "</style>\n",
       "<table border=\"1\" class=\"dataframe\">\n",
       "  <thead>\n",
       "    <tr style=\"text-align: right;\">\n",
       "      <th>Revenue</th>\n",
       "      <th>False</th>\n",
       "      <th>True</th>\n",
       "    </tr>\n",
       "    <tr>\n",
       "      <th>VisitorType</th>\n",
       "      <th></th>\n",
       "      <th></th>\n",
       "    </tr>\n",
       "  </thead>\n",
       "  <tbody>\n",
       "    <tr>\n",
       "      <th>New_Visitor</th>\n",
       "      <td>75.09</td>\n",
       "      <td>24.91</td>\n",
       "    </tr>\n",
       "    <tr>\n",
       "      <th>Other</th>\n",
       "      <td>81.18</td>\n",
       "      <td>18.82</td>\n",
       "    </tr>\n",
       "    <tr>\n",
       "      <th>Returning_Visitor</th>\n",
       "      <td>86.07</td>\n",
       "      <td>13.93</td>\n",
       "    </tr>\n",
       "  </tbody>\n",
       "</table>\n",
       "</div>"
      ],
      "text/plain": [
       "Revenue            False  True \n",
       "VisitorType                    \n",
       "New_Visitor        75.09  24.91\n",
       "Other              81.18  18.82\n",
       "Returning_Visitor  86.07  13.93"
      ]
     },
     "metadata": {},
     "output_type": "display_data"
    },
    {
     "name": "stdout",
     "output_type": "stream",
     "text": [
      "\n",
      "--- Month ---\n"
     ]
    },
    {
     "data": {
      "text/html": [
       "<div>\n",
       "<style scoped>\n",
       "    .dataframe tbody tr th:only-of-type {\n",
       "        vertical-align: middle;\n",
       "    }\n",
       "\n",
       "    .dataframe tbody tr th {\n",
       "        vertical-align: top;\n",
       "    }\n",
       "\n",
       "    .dataframe thead th {\n",
       "        text-align: right;\n",
       "    }\n",
       "</style>\n",
       "<table border=\"1\" class=\"dataframe\">\n",
       "  <thead>\n",
       "    <tr style=\"text-align: right;\">\n",
       "      <th>Revenue</th>\n",
       "      <th>False</th>\n",
       "      <th>True</th>\n",
       "    </tr>\n",
       "    <tr>\n",
       "      <th>Month</th>\n",
       "      <th></th>\n",
       "      <th></th>\n",
       "    </tr>\n",
       "  </thead>\n",
       "  <tbody>\n",
       "    <tr>\n",
       "      <th>Aug</th>\n",
       "      <td>82.45</td>\n",
       "      <td>17.55</td>\n",
       "    </tr>\n",
       "    <tr>\n",
       "      <th>Dec</th>\n",
       "      <td>87.49</td>\n",
       "      <td>12.51</td>\n",
       "    </tr>\n",
       "    <tr>\n",
       "      <th>Feb</th>\n",
       "      <td>98.37</td>\n",
       "      <td>1.63</td>\n",
       "    </tr>\n",
       "    <tr>\n",
       "      <th>Jul</th>\n",
       "      <td>84.72</td>\n",
       "      <td>15.28</td>\n",
       "    </tr>\n",
       "    <tr>\n",
       "      <th>June</th>\n",
       "      <td>89.93</td>\n",
       "      <td>10.07</td>\n",
       "    </tr>\n",
       "    <tr>\n",
       "      <th>Mar</th>\n",
       "      <td>89.93</td>\n",
       "      <td>10.07</td>\n",
       "    </tr>\n",
       "    <tr>\n",
       "      <th>May</th>\n",
       "      <td>89.15</td>\n",
       "      <td>10.85</td>\n",
       "    </tr>\n",
       "    <tr>\n",
       "      <th>Nov</th>\n",
       "      <td>74.65</td>\n",
       "      <td>25.35</td>\n",
       "    </tr>\n",
       "    <tr>\n",
       "      <th>Oct</th>\n",
       "      <td>79.05</td>\n",
       "      <td>20.95</td>\n",
       "    </tr>\n",
       "    <tr>\n",
       "      <th>Sep</th>\n",
       "      <td>80.80</td>\n",
       "      <td>19.20</td>\n",
       "    </tr>\n",
       "  </tbody>\n",
       "</table>\n",
       "</div>"
      ],
      "text/plain": [
       "Revenue  False  True \n",
       "Month                \n",
       "Aug      82.45  17.55\n",
       "Dec      87.49  12.51\n",
       "Feb      98.37   1.63\n",
       "Jul      84.72  15.28\n",
       "June     89.93  10.07\n",
       "Mar      89.93  10.07\n",
       "May      89.15  10.85\n",
       "Nov      74.65  25.35\n",
       "Oct      79.05  20.95\n",
       "Sep      80.80  19.20"
      ]
     },
     "metadata": {},
     "output_type": "display_data"
    }
   ],
   "source": [
    "# Função para gerar crosstab com percentual\n",
    "def crosstab_percent(col):\n",
    "    return pd.crosstab(df[col], df['Revenue'], normalize='index') * 100\n",
    "\n",
    "# Exemplo com algumas variáveis\n",
    "for col in ['Weekend', 'VisitorType', 'Month']:\n",
    "    print(f\"\\n--- {col} ---\")\n",
    "    display(crosstab_percent(col).round(2))\n"
   ]
  },
  {
   "cell_type": "markdown",
   "id": "f066a3aa",
   "metadata": {},
   "source": []
  },
  {
   "cell_type": "markdown",
   "id": "20a768b0",
   "metadata": {},
   "source": [
    "<h4>\n",
    "📌 Insight: Visitantes\n",
    "Surpreendentemente, novos visitantes convertem mais (25%) do que retornantes (14%).\n",
    "Pode indicar boas campanhas de aquisição ou ofertas de primeira compra.\n",
    "É um resultado contraintuitivo, o que pode gerar boas discussões no relatório.<br>\n",
    "\n",
    "📌 Insight: Weekend \n",
    "Leve aumento na taxa de conversão aos finais de semana (17,4% vs 14,9%).\n",
    "Pode ser indicativo de maior disposição à compra em momentos de lazer.<br>\n",
    "\n",
    "\n",
    "📌 Insight: Month\n",
    "Novembro se destaca fortemente como o mês com maior taxa de conversão (25%), possivelmente por promoções como a Black Friday.\n",
    "Fevereiro tem a menor taxa (1,63%), indicando baixa sazonalidade.\n",
    "Esse tipo de dado é excelente para enriquecer o modelo com variáveis temporais.\n",
    "</h4>"
   ]
  },
  {
   "cell_type": "markdown",
   "id": "1c825614",
   "metadata": {},
   "source": [
    "<h4>Análise de correlação para variáveis contínuas\n",
    "Usamos o coeficiente de correlação de Pearson para identificar relações lineares com o target.</h4>"
   ]
  },
  {
   "cell_type": "code",
   "execution_count": 17,
   "id": "21c61070",
   "metadata": {},
   "outputs": [
    {
     "name": "stdout",
     "output_type": "stream",
     "text": [
      "Revenue                    1.000000\n",
      "PageValues                 0.492569\n",
      "ProductRelated             0.158538\n",
      "ProductRelated_Duration    0.152373\n",
      "Administrative             0.138917\n",
      "Informational              0.095200\n",
      "Administrative_Duration    0.093587\n",
      "Informational_Duration     0.070345\n",
      "BounceRates               -0.150673\n",
      "ExitRates                 -0.207071\n",
      "Name: Revenue, dtype: float64\n"
     ]
    }
   ],
   "source": [
    "# Selecionar variáveis numéricas contínuas\n",
    "variaveis_continuas = [\n",
    "    'Administrative', 'Administrative_Duration',\n",
    "    'Informational', 'Informational_Duration',\n",
    "    'ProductRelated', 'ProductRelated_Duration',\n",
    "    'BounceRates', 'ExitRates', 'PageValues'\n",
    "]\n",
    "\n",
    "# Adiciona o target como numérico\n",
    "df_corr = df[variaveis_continuas + ['Revenue']].copy()\n",
    "df_corr['Revenue'] = df_corr['Revenue'].astype(int)\n",
    "\n",
    "# Matriz de correlação\n",
    "correlacoes = df_corr.corr()['Revenue'].sort_values(ascending=False)\n",
    "print(correlacoes)\n"
   ]
  },
  {
   "cell_type": "markdown",
   "id": "81e5e33d",
   "metadata": {},
   "source": [
    "</h4>\n",
    "🔍 Principais correlações encontradas com Revenue:<br>\n",
    "\n",
    "\n",
    "PageValues: alta correlação positiva (~0.49)<br>\n",
    "ProductRelated: positiva<br>\n",
    "BounceRates: negativa<br>\n",
    "ExitRates: negativa<br>\n",
    "ProductRelated_Duration: positiva\n",
    "<br>\n",
    "Essas variáveis terão prioridade na modelagem.\n",
    "<h4>"
   ]
  },
  {
   "cell_type": "markdown",
   "id": "c3e39648",
   "metadata": {},
   "source": [
    "<h3>Criar visualizações para entender comportamento por canal, tipo de visitante e página acessada.</h3>"
   ]
  },
  {
   "cell_type": "markdown",
   "id": "a1e59c16",
   "metadata": {},
   "source": [
    "<h4>Conversão por canal (TrafficType)</h4>"
   ]
  },
  {
   "cell_type": "code",
   "execution_count": 18,
   "id": "7e014911",
   "metadata": {},
   "outputs": [
    {
     "data": {
      "image/png": "[encoded data removed]",
      "text/plain": [
       "<Figure size 1200x500 with 1 Axes>"
      ]
     },
     "metadata": {},
     "output_type": "display_data"
    }
   ],
   "source": [
    "# Gráfico de barras da taxa de conversão por canal\n",
    "conversion_by_channel = pd.crosstab(df['TrafficType'], df['Revenue'], normalize='index') * 100\n",
    "\n",
    "plt.figure(figsize=(12, 5))\n",
    "sns.barplot(x=conversion_by_channel.index, y=conversion_by_channel[True])\n",
    "plt.ylabel('Taxa de Conversão (%)')\n",
    "plt.xlabel('Canal (TrafficType)')\n",
    "plt.title('Taxa de Conversão por Canal de Aquisição')\n",
    "plt.xticks(rotation=45)\n",
    "plt.tight_layout()\n",
    "plt.show()\n"
   ]
  },
  {
   "cell_type": "markdown",
   "id": "1ee365fa",
   "metadata": {},
   "source": [
    "<h4>Insight:<br>\n",
    "Alguns canais apresentam taxa de conversão significativamente maior do que outros, sugerindo que a origem do tráfego impacta diretamente o comportamento de compra.<br>\n",
    "Por exemplo, canais como 7, 8 ou 16 costumam converter melhor, enquanto outros apresentam grande volume mas baixa efetividade.<br>\n",
    "👉 Pode indicar oportunidade de realocar investimentos de mídia para canais mais eficientes.</h4>"
   ]
  },
  {
   "cell_type": "markdown",
   "id": "127d454b",
   "metadata": {},
   "source": [
    "<h4>Conversão por tipo de visitante</h4>"
   ]
  },
  {
   "cell_type": "code",
   "execution_count": 19,
   "id": "818fb50b",
   "metadata": {},
   "outputs": [
    {
     "data": {
      "image/png": "[encoded data removed]",
      "text/plain": [
       "<Figure size 600x500 with 1 Axes>"
      ]
     },
     "metadata": {},
     "output_type": "display_data"
    }
   ],
   "source": [
    "# Gráfico de barras da taxa de conversão por tipo de visitante\n",
    "conversion_by_visitor = pd.crosstab(df['VisitorType'], df['Revenue'], normalize='index') * 100\n",
    "\n",
    "plt.figure(figsize=(6, 5))\n",
    "sns.barplot(x=conversion_by_visitor.index, y=conversion_by_visitor[True])\n",
    "plt.ylabel('Taxa de Conversão (%)')\n",
    "plt.xlabel('Tipo de Visitante')\n",
    "plt.title('Taxa de Conversão por Tipo de Visitante')\n",
    "plt.tight_layout()\n",
    "plt.show()\n"
   ]
  },
  {
   "cell_type": "markdown",
   "id": "fe7bfa5e",
   "metadata": {},
   "source": [
    "<h4>\n",
    "Insight:<br>\n",
    "Apesar do senso comum sugerir que \"clientes recorrentes convertem mais\", neste dataset os novos visitantes apresentam maior taxa de conversão.<br>\n",
    "Isso pode indicar campanhas promocionais, ações de remarketing mais eficazes ou uma experiência de primeira visita mais eficiente.<br>\n",
    "👉 Vale investigar o que está sendo oferecido para novos usuários e se o comportamento dos recorrentes exige melhorias.<br>\n",
    "</h4>"
   ]
  },
  {
   "cell_type": "markdown",
   "id": "5b11f49a",
   "metadata": {},
   "source": [
    "<h4>Distribuição do número de páginas acessadas (ProductRelated) por conversão</h4>"
   ]
  },
  {
   "cell_type": "code",
   "execution_count": 20,
   "id": "576731cc",
   "metadata": {},
   "outputs": [
    {
     "data": {
      "image/png": "[encoded data removed]",
      "text/plain": [
       "<Figure size 1000x500 with 1 Axes>"
      ]
     },
     "metadata": {},
     "output_type": "display_data"
    }
   ],
   "source": [
    "plt.figure(figsize=(10, 5))\n",
    "sns.boxplot(x='Revenue', y='ProductRelated', data=df)\n",
    "plt.title('Distribuição de Páginas Relacionadas ao Produto por Conversão')\n",
    "plt.xlabel('Conversão')\n",
    "plt.ylabel('Quantidade de Páginas Acessadas')\n",
    "plt.tight_layout()\n",
    "plt.show()"
   ]
  },
  {
   "cell_type": "markdown",
   "id": "81f26426",
   "metadata": {},
   "source": [
    "<h4>\n",
    "Insight:<br>\n",
    "Usuários que converteram (compraram) tendem a navegar por mais páginas de produto do que os que não converteram.<br>\n",
    "Isso sugere um comportamento de exploração ativa, em que o cliente avalia e compara produtos antes da compra.<br>\n",
    "👉 Funcionalidades como produtos recomendados ou listas de comparação podem aumentar o engajamento e a taxa de conversão.<br>\n",
    "</h4>"
   ]
  },
  {
   "cell_type": "markdown",
   "id": "ab753882",
   "metadata": {},
   "source": [
    "<h4>Distribuição da duração em páginas de produto (ProductRelated_Duration) por conversão</h4>"
   ]
  },
  {
   "cell_type": "code",
   "execution_count": 21,
   "id": "9c80325c",
   "metadata": {},
   "outputs": [
    {
     "data": {
      "image/png": "[encoded data removed]",
      "text/plain": [
       "<Figure size 1000x500 with 1 Axes>"
      ]
     },
     "metadata": {},
     "output_type": "display_data"
    }
   ],
   "source": [
    "plt.figure(figsize=(10, 5))\n",
    "sns.boxplot(x='Revenue', y='ProductRelated_Duration', data=df)\n",
    "plt.title('Duração em Páginas de Produto por Conversão')\n",
    "plt.xlabel('Conversão')\n",
    "plt.ylabel('Duração (segundos)')\n",
    "plt.tight_layout()\n",
    "plt.show()\n"
   ]
  },
  {
   "cell_type": "markdown",
   "id": "b22d1ce3",
   "metadata": {},
   "source": [
    "<h4>\n",
    "Insight:<br>\n",
    "Clientes que compram permanecem mais tempo nas páginas de produto, reforçando o padrão anterior.<br>\n",
    "Maior duração indica interesse real, leitura de descrições, comparação de preços ou leitura de avaliações.<br>\n",
    "👉 Estratégias para aumentar o tempo útil de navegação, como vídeos, reviews ou descrições ricas, podem favorecer a conversão.<br>\n",
    "</h4>"
   ]
  },
  {
   "cell_type": "markdown",
   "id": "8bc8e9bb",
   "metadata": {},
   "source": [
    "<h3>Aplicar tratamentos iniciais</h3>"
   ]
  },
  {
   "cell_type": "markdown",
   "id": "e0c6693e",
   "metadata": {},
   "source": [
    "<h4>Conversão de tipos<br>\n",
    "Começamos garantindo que os dados estão no tipo certo para análise e modelagem:</h4>"
   ]
  },
  {
   "cell_type": "code",
   "execution_count": 22,
   "id": "1a2d32d9",
   "metadata": {},
   "outputs": [],
   "source": [
    "# Garantir que a variável target seja do tipo inteiro\n",
    "df['Revenue'] = df['Revenue'].astype(int)\n",
    "\n",
    "# Se houver colunas booleanas que vieram como string, podemos convertê-las\n",
    "df['Weekend'] = df['Weekend'].astype(int)\n"
   ]
  },
  {
   "cell_type": "markdown",
   "id": "0f1a7b0b",
   "metadata": {},
   "source": [
    "<h4>Padronização de categorias<br>\n",
    "Algumas variáveis categóricas podem ter valores com variação de grafia ou formato, como VisitorType. Vamos simplificar e padronizar:</h4>"
   ]
  },
  {
   "cell_type": "code",
   "execution_count": 23,
   "id": "54a6be7f",
   "metadata": {},
   "outputs": [],
   "source": [
    "# Padronizar os tipos de visitantes\n",
    "df['VisitorType'] = df['VisitorType'].replace({\n",
    "    'Returning_Visitor': 'Returning',\n",
    "    'New_Visitor': 'New',\n",
    "    'Other': 'Other'\n",
    "})\n"
   ]
  },
  {
   "cell_type": "markdown",
   "id": "8011d545",
   "metadata": {},
   "source": [
    "<h4>Criação de variáveis derivadas<br>\n",
    "Vamos criar algumas variáveis que extraem insights úteis diretamente dos dados:</h4>"
   ]
  },
  {
   "cell_type": "code",
   "execution_count": 24,
   "id": "9675befc",
   "metadata": {},
   "outputs": [],
   "source": [
    "# Proporção de páginas de produto por tempo total\n",
    "df['ProductPageViewRate'] = df['ProductRelated'] / (df['ProductRelated_Duration'] + 1)\n",
    "\n",
    "# Razão entre ExitRate e BounceRate (quanto mais o usuário navega antes de sair)\n",
    "df['ExitBounceRatio'] = df['ExitRates'] / (df['BounceRates'] + 0.0001)\n",
    "\n",
    "# Flag se o usuário acessou alguma página de produto\n",
    "df['ViewedProduct'] = (df['ProductRelated'] > 0).astype(int)\n"
   ]
  },
  {
   "cell_type": "code",
   "execution_count": 25,
   "id": "8cd7e7c8",
   "metadata": {},
   "outputs": [
    {
     "data": {
      "text/html": [
       "<div>\n",
       "<style scoped>\n",
       "    .dataframe tbody tr th:only-of-type {\n",
       "        vertical-align: middle;\n",
       "    }\n",
       "\n",
       "    .dataframe tbody tr th {\n",
       "        vertical-align: top;\n",
       "    }\n",
       "\n",
       "    .dataframe thead th {\n",
       "        text-align: right;\n",
       "    }\n",
       "</style>\n",
       "<table border=\"1\" class=\"dataframe\">\n",
       "  <thead>\n",
       "    <tr style=\"text-align: right;\">\n",
       "      <th></th>\n",
       "      <th>Administrative</th>\n",
       "      <th>Administrative_Duration</th>\n",
       "      <th>Informational</th>\n",
       "      <th>Informational_Duration</th>\n",
       "      <th>ProductRelated</th>\n",
       "      <th>ProductRelated_Duration</th>\n",
       "      <th>BounceRates</th>\n",
       "      <th>ExitRates</th>\n",
       "      <th>PageValues</th>\n",
       "      <th>SpecialDay</th>\n",
       "      <th>...</th>\n",
       "      <th>Region</th>\n",
       "      <th>TrafficType</th>\n",
       "      <th>VisitorType</th>\n",
       "      <th>Weekend</th>\n",
       "      <th>Revenue</th>\n",
       "      <th>PageValues_Outlier</th>\n",
       "      <th>ProductRelated_Duration_Outlier</th>\n",
       "      <th>ProductPageViewRate</th>\n",
       "      <th>ExitBounceRatio</th>\n",
       "      <th>ViewedProduct</th>\n",
       "    </tr>\n",
       "  </thead>\n",
       "  <tbody>\n",
       "    <tr>\n",
       "      <th>0</th>\n",
       "      <td>0</td>\n",
       "      <td>0.0</td>\n",
       "      <td>0</td>\n",
       "      <td>0.0</td>\n",
       "      <td>1</td>\n",
       "      <td>0.000000</td>\n",
       "      <td>0.20</td>\n",
       "      <td>0.20</td>\n",
       "      <td>0.0</td>\n",
       "      <td>0.0</td>\n",
       "      <td>...</td>\n",
       "      <td>1</td>\n",
       "      <td>1</td>\n",
       "      <td>Returning</td>\n",
       "      <td>0</td>\n",
       "      <td>0</td>\n",
       "      <td>0</td>\n",
       "      <td>0</td>\n",
       "      <td>1.000000</td>\n",
       "      <td>0.999500</td>\n",
       "      <td>1</td>\n",
       "    </tr>\n",
       "    <tr>\n",
       "      <th>1</th>\n",
       "      <td>0</td>\n",
       "      <td>0.0</td>\n",
       "      <td>0</td>\n",
       "      <td>0.0</td>\n",
       "      <td>2</td>\n",
       "      <td>64.000000</td>\n",
       "      <td>0.00</td>\n",
       "      <td>0.10</td>\n",
       "      <td>0.0</td>\n",
       "      <td>0.0</td>\n",
       "      <td>...</td>\n",
       "      <td>1</td>\n",
       "      <td>2</td>\n",
       "      <td>Returning</td>\n",
       "      <td>0</td>\n",
       "      <td>0</td>\n",
       "      <td>0</td>\n",
       "      <td>0</td>\n",
       "      <td>0.030769</td>\n",
       "      <td>1000.000000</td>\n",
       "      <td>1</td>\n",
       "    </tr>\n",
       "    <tr>\n",
       "      <th>2</th>\n",
       "      <td>0</td>\n",
       "      <td>0.0</td>\n",
       "      <td>0</td>\n",
       "      <td>0.0</td>\n",
       "      <td>1</td>\n",
       "      <td>0.000000</td>\n",
       "      <td>0.20</td>\n",
       "      <td>0.20</td>\n",
       "      <td>0.0</td>\n",
       "      <td>0.0</td>\n",
       "      <td>...</td>\n",
       "      <td>9</td>\n",
       "      <td>3</td>\n",
       "      <td>Returning</td>\n",
       "      <td>0</td>\n",
       "      <td>0</td>\n",
       "      <td>0</td>\n",
       "      <td>0</td>\n",
       "      <td>1.000000</td>\n",
       "      <td>0.999500</td>\n",
       "      <td>1</td>\n",
       "    </tr>\n",
       "    <tr>\n",
       "      <th>3</th>\n",
       "      <td>0</td>\n",
       "      <td>0.0</td>\n",
       "      <td>0</td>\n",
       "      <td>0.0</td>\n",
       "      <td>2</td>\n",
       "      <td>2.666667</td>\n",
       "      <td>0.05</td>\n",
       "      <td>0.14</td>\n",
       "      <td>0.0</td>\n",
       "      <td>0.0</td>\n",
       "      <td>...</td>\n",
       "      <td>2</td>\n",
       "      <td>4</td>\n",
       "      <td>Returning</td>\n",
       "      <td>0</td>\n",
       "      <td>0</td>\n",
       "      <td>0</td>\n",
       "      <td>0</td>\n",
       "      <td>0.545455</td>\n",
       "      <td>2.794411</td>\n",
       "      <td>1</td>\n",
       "    </tr>\n",
       "    <tr>\n",
       "      <th>4</th>\n",
       "      <td>0</td>\n",
       "      <td>0.0</td>\n",
       "      <td>0</td>\n",
       "      <td>0.0</td>\n",
       "      <td>10</td>\n",
       "      <td>627.500000</td>\n",
       "      <td>0.02</td>\n",
       "      <td>0.05</td>\n",
       "      <td>0.0</td>\n",
       "      <td>0.0</td>\n",
       "      <td>...</td>\n",
       "      <td>1</td>\n",
       "      <td>4</td>\n",
       "      <td>Returning</td>\n",
       "      <td>1</td>\n",
       "      <td>0</td>\n",
       "      <td>0</td>\n",
       "      <td>0</td>\n",
       "      <td>0.015911</td>\n",
       "      <td>2.487562</td>\n",
       "      <td>1</td>\n",
       "    </tr>\n",
       "  </tbody>\n",
       "</table>\n",
       "<p>5 rows × 23 columns</p>\n",
       "</div>"
      ],
      "text/plain": [
       "   Administrative  Administrative_Duration  Informational  \\\n",
       "0               0                      0.0              0   \n",
       "1               0                      0.0              0   \n",
       "2               0                      0.0              0   \n",
       "3               0                      0.0              0   \n",
       "4               0                      0.0              0   \n",
       "\n",
       "   Informational_Duration  ProductRelated  ProductRelated_Duration  \\\n",
       "0                     0.0               1                 0.000000   \n",
       "1                     0.0               2                64.000000   \n",
       "2                     0.0               1                 0.000000   \n",
       "3                     0.0               2                 2.666667   \n",
       "4                     0.0              10               627.500000   \n",
       "\n",
       "   BounceRates  ExitRates  PageValues  SpecialDay  ... Region  TrafficType  \\\n",
       "0         0.20       0.20         0.0         0.0  ...      1            1   \n",
       "1         0.00       0.10         0.0         0.0  ...      1            2   \n",
       "2         0.20       0.20         0.0         0.0  ...      9            3   \n",
       "3         0.05       0.14         0.0         0.0  ...      2            4   \n",
       "4         0.02       0.05         0.0         0.0  ...      1            4   \n",
       "\n",
       "   VisitorType  Weekend  Revenue PageValues_Outlier  \\\n",
       "0    Returning        0        0                  0   \n",
       "1    Returning        0        0                  0   \n",
       "2    Returning        0        0                  0   \n",
       "3    Returning        0        0                  0   \n",
       "4    Returning        1        0                  0   \n",
       "\n",
       "   ProductRelated_Duration_Outlier  ProductPageViewRate  ExitBounceRatio  \\\n",
       "0                                0             1.000000         0.999500   \n",
       "1                                0             0.030769      1000.000000   \n",
       "2                                0             1.000000         0.999500   \n",
       "3                                0             0.545455         2.794411   \n",
       "4                                0             0.015911         2.487562   \n",
       "\n",
       "   ViewedProduct  \n",
       "0              1  \n",
       "1              1  \n",
       "2              1  \n",
       "3              1  \n",
       "4              1  \n",
       "\n",
       "[5 rows x 23 columns]"
      ]
     },
     "execution_count": 25,
     "metadata": {},
     "output_type": "execute_result"
    }
   ],
   "source": [
    "df.head()"
   ]
  },
  {
   "cell_type": "markdown",
   "id": "0531edea",
   "metadata": {},
   "source": [
    "### Final da Sprint 1\n",
    "## 🧠 Tarefa: Documentar todas as descobertas e hipóteses confirmadas/refutadas\n",
    "\n",
    "### ✅ 1. Hipóteses confirmadas/refutadas\n",
    "\n",
    "| Hipótese | Resultado | Observação |\n",
    "|----------|-----------|------------|\n",
    "| Sessões com maior número de páginas de produto estão mais associadas à conversão | ✅ Confirmada | Usuários que compraram acessam significativamente mais páginas relacionadas ao produto |\n",
    "| Sessões com maior tempo gasto em páginas de produto têm maior chance de conversão | ✅ Confirmada | Compradores permanecem mais tempo nas páginas de produto |\n",
    "| Novos visitantes convertem menos que visitantes recorrentes | ❌ Refutada | Novos visitantes têm **maior taxa de conversão** no dataset |\n",
    "| Sessões aos finais de semana convertem mais | ❌ Refutada | Não há diferença expressiva: finais de semana têm taxa semelhante aos dias úteis |\n",
    "| Determinados canais de tráfego apresentam conversão significativamente maior | ✅ Confirmada | Canais 16, 7 e 8 têm as maiores taxas de conversão |\n",
    "| Canais de redes sociais convertem menos que e-mail marketing | ❌ Inconclusiva | Dataset não especifica canal por nome (apenas `TrafficType` numérico); requer análise externa para validação |\n",
    "\n",
    "---\n",
    "\n",
    "### ✅ 2. Descobertas relevantes (insights)\n",
    "\n",
    "- **PageValues** é altamente correlacionada com conversão. Muitos usuários com `PageValues = 0` não compram.\n",
    "- **Outliers positivos em PageValues** e **ProductRelated_Duration** aumentam a chance de compra, indicando **usuários mais engajados**.\n",
    "- A criação de **flags de outlier** para essas variáveis contribui como possível feature na modelagem.\n",
    "- Usuários que acessaram páginas de produto (`ProductRelated > 0`) têm maior chance de converter.\n",
    "- Os meses **Novembro** e **Outubro** concentram as maiores taxas de conversão (possível efeito da Black Friday).\n",
    "- Visitantes do tipo **“Returning”** são maioria, mas convertem menos que os **“New”**, o que pode indicar oportunidade de melhoria na jornada dos recorrentes.\n",
    "\n",
    "---\n",
    "\n",
    "✅ **Tarefa concluída com sucesso.** Essa documentação servirá de base para as decisões na etapa de modelagem.\n",
    "\n"
   ]
  },
  {
   "cell_type": "code",
   "execution_count": null,
   "id": "80bf9cd4",
   "metadata": {},
   "outputs": [],
   "source": []
  }
 ],
 "metadata": {
  "kernelspec": {
   "display_name": "base",
   "language": "python",
   "name": "python3"
  },
  "language_info": {
   "codemirror_mode": {
    "name": "ipython",
    "version": 3
   },
   "file_extension": ".py",
   "mimetype": "text/x-python",
   "name": "python",
   "nbconvert_exporter": "python",
   "pygments_lexer": "ipython3",
   "version": "3.11.7"
  }
 },
 "nbformat": 4,
 "nbformat_minor": 5
}
